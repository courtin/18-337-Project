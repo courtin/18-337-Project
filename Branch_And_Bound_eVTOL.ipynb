{
 "cells": [
  {
   "cell_type": "code",
   "execution_count": 1,
   "metadata": {},
   "outputs": [
    {
     "data": {
      "text/plain": [
       "solve_MIGP (generic function with 2 methods)"
      ]
     },
     "execution_count": 1,
     "metadata": {},
     "output_type": "execute_result"
    }
   ],
   "source": [
    "using PyCall\n",
    "PyCall.pyversion\n",
    "@pyimport run_evtol\n",
    "include(\"MIGP.jl\")"
   ]
  },
  {
   "cell_type": "code",
   "execution_count": 2,
   "metadata": {},
   "outputs": [
    {
     "data": {
      "text/plain": [
       "branch (generic function with 1 method)"
      ]
     },
     "execution_count": 2,
     "metadata": {},
     "output_type": "execute_result"
    }
   ],
   "source": [
    "function branch(cur_val,g,best_val, cleaned_vars)\n",
    "    (above, below) = nearest_ints(cur_val)\n",
    "\n",
    "    Above = g(cleaned_vars, [best_val...,above])\n",
    "    Below = g(cleaned_vars, [best_val...,below])\n",
    "\n",
    "    (val, cost, I_vr, I_vl) = pick_next((Above...,above), (Below...,below))\n",
    "\n",
    "    return (val, cost, I_vr, I_vl)\n",
    "end"
   ]
  },
  {
   "cell_type": "code",
   "execution_count": 3,
   "metadata": {},
   "outputs": [
    {
     "name": "stdout",
     "output_type": "stream",
     "text": [
      " 11.778866 seconds (3.60 M allocations: 176.634 MiB, 0.35% gc time)\n",
      "25 calls to solver (0.47557837944 sec/call)\n"
     ]
    }
   ],
   "source": [
    "t = @elapsed @time out = solve_MIGP(run_evtol.run_opt)\n",
    "println(string(out[4])*\" calls to solver (\"*string(t/out[4])*\" sec/call)\")"
   ]
  },
  {
   "cell_type": "code",
   "execution_count": 4,
   "metadata": {},
   "outputs": [
    {
     "name": "stdout",
     "output_type": "stream",
     "text": [
      "  0.335879 seconds (4.07 k allocations: 143.641 KiB)\n",
      "Relaxed cost:638.502 lbf\n"
     ]
    }
   ],
   "source": [
    "@time out = run_evtol.run_opt()\n",
    "println(\"Relaxed cost:\"*string(out[3])*\" lbf\")\n",
    "\n"
   ]
  },
  {
   "cell_type": "markdown",
   "metadata": {},
   "source": [
    "# Parallel Speedup\n"
   ]
  },
  {
   "cell_type": "code",
   "execution_count": 5,
   "metadata": {},
   "outputs": [
    {
     "data": {
      "text/plain": [
       "2-element Array{Int64,1}:\n",
       " 2\n",
       " 3"
      ]
     },
     "execution_count": 5,
     "metadata": {},
     "output_type": "execute_result"
    }
   ],
   "source": [
    "using Distributed\n",
    "addprocs(2)"
   ]
  },
  {
   "cell_type": "code",
   "execution_count": 6,
   "metadata": {},
   "outputs": [],
   "source": [
    "@everywhere using PyCall\n",
    "@everywhere @pyimport run_evtol\n"
   ]
  },
  {
   "cell_type": "code",
   "execution_count": 7,
   "metadata": {},
   "outputs": [
    {
     "data": {
      "text/plain": [
       "branch (generic function with 1 method)"
      ]
     },
     "execution_count": 7,
     "metadata": {},
     "output_type": "execute_result"
    }
   ],
   "source": [
    "function branch(cur_val,g,best_val, cleaned_vars)\n",
    "    (above, below) = nearest_ints(cur_val)\n",
    "    input_list = [(cleaned_vars, [best_val...,above]),(cleaned_vars, [best_val...,below])]\n",
    "    results = @distributed vcat for inp in input_list\n",
    "           g(inp...)\n",
    "       end\n",
    "    (val, cost, I_vr, I_vl) = pick_next((results[1]...,above), (results[2]...,below))\n",
    "\n",
    "    return (val, cost, I_vr, I_vl)\n",
    "end"
   ]
  },
  {
   "cell_type": "code",
   "execution_count": 8,
   "metadata": {},
   "outputs": [
    {
     "name": "stdout",
     "output_type": "stream",
     "text": [
      "  7.804041 seconds (3.27 M allocations: 162.155 MiB, 0.83% gc time)\n",
      "13 calls to solver (0.6003304403076923 sec/call)\n"
     ]
    }
   ],
   "source": [
    "t = @elapsed @time out = solve_MIGP(run_evtol.run_opt)\n",
    "println(string(out[4])*\" calls to solver (\"*string(t/out[4])*\" sec/call)\")"
   ]
  },
  {
   "cell_type": "markdown",
   "metadata": {},
   "source": [
    "#### Solution checking takes a lot of time "
   ]
  },
  {
   "cell_type": "code",
   "execution_count": 9,
   "metadata": {},
   "outputs": [
    {
     "name": "stdout",
     "output_type": "stream",
     "text": [
      "  1.286083 seconds (12.14 k allocations: 527.109 KiB)\n",
      "4 calls to solver (0.321562484 sec/call)\n"
     ]
    }
   ],
   "source": [
    "t = @elapsed @time out = solve_MIGP(run_evtol.run_opt, false)\n",
    "println(string(out[4])*\" calls to solver (\"*string(t/out[4])*\" sec/call)\")"
   ]
  },
  {
   "cell_type": "code",
   "execution_count": null,
   "metadata": {},
   "outputs": [],
   "source": []
  },
  {
   "cell_type": "code",
   "execution_count": 10,
   "metadata": {},
   "outputs": [
    {
     "data": {
      "text/plain": [
       "branch (generic function with 1 method)"
      ]
     },
     "execution_count": 10,
     "metadata": {},
     "output_type": "execute_result"
    }
   ],
   "source": [
    "@everywhere using Dagger\n",
    "function branch(cur_val,g,best_val, cleaned_vars)\n",
    "    (above, below) = nearest_ints(cur_val)\n",
    "    results = Dict()\n",
    "    input_list = [(cleaned_vars, [best_val...,above]),(cleaned_vars, [best_val...,below])]\n",
    "    results = collect(delayed(vcat)(delayed(g)(input_list[1]...), delayed(g)(input_list[2]...)))\n",
    "    #results = @distributed vcat for inp in input_list\n",
    "    #       g(inp...)\n",
    "    #   end\n",
    "    (val, cost, I_vr, I_vl) = pick_next((results[1]...,above), (results[2]...,below))\n",
    "\n",
    "    return (val, cost, I_vr, I_vl)\n",
    "end"
   ]
  },
  {
   "cell_type": "code",
   "execution_count": 11,
   "metadata": {},
   "outputs": [
    {
     "name": "stdout",
     "output_type": "stream",
     "text": [
      " 11.048798 seconds (10.52 M allocations: 522.481 MiB, 1.48% gc time)\n"
     ]
    },
    {
     "data": {
      "text/plain": [
       "([\"INT_N_lift_motors_Mission.32\", \"INT_N_thrust_motors_Mission.32\"], [28.0, 2.0], 638.5117938100791, 13)"
      ]
     },
     "execution_count": 11,
     "metadata": {},
     "output_type": "execute_result"
    }
   ],
   "source": [
    "@time solve_MIGP(run_evtol.run_opt)"
   ]
  },
  {
   "cell_type": "code",
   "execution_count": null,
   "metadata": {},
   "outputs": [],
   "source": []
  },
  {
   "cell_type": "code",
   "execution_count": null,
   "metadata": {},
   "outputs": [],
   "source": []
  }
 ],
 "metadata": {
  "@webio": {
   "lastCommId": "88ba935588c84a5c89c0e696c80fdd9e",
   "lastKernelId": "fbd599a0-904f-4749-b42f-4e3543a95ca0"
  },
  "kernelspec": {
   "display_name": "Julia 1.0.0",
   "language": "julia",
   "name": "julia-1.0"
  },
  "language_info": {
   "file_extension": ".jl",
   "mimetype": "application/julia",
   "name": "julia",
   "version": "1.0.0"
  }
 },
 "nbformat": 4,
 "nbformat_minor": 2
}
